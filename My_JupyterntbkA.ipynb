{
  "metadata": {
    "kernelspec": {
      "name": "python",
      "display_name": "Pyolite",
      "language": "python"
    },
    "language_info": {
      "codemirror_mode": {
        "name": "python",
        "version": 3
      },
      "file_extension": ".py",
      "mimetype": "text/x-python",
      "name": "python",
      "nbconvert_exporter": "python",
      "pygments_lexer": "ipython3",
      "version": "3.8"
    }
  },
  "nbformat_minor": 5,
  "nbformat": 4,
  "cells": [
    {
      "cell_type": "markdown",
      "source": "#  My Jupyter Notebook on IBM Watson Studio",
      "metadata": {
        "tags": []
      },
      "id": "7c4aa2b6-b0c5-47b1-98e1-fe82eebd8237"
    },
    {
      "cell_type": "markdown",
      "source": "**Walter Mournighan** <br>\nRetired but looking for Data Science position.",
      "metadata": {
        "tags": []
      },
      "id": "f4939ba9-4b6d-4d0c-8025-06f55f4ccfab"
    },
    {
      "cell_type": "markdown",
      "source": "*I seek a position in Data Science that will be applied to the biological sciences.  Public health or decision support could be possibilities.*",
      "metadata": {},
      "id": "b1ee18ca-c349-49e9-be6a-ad1e3dfb36ae"
    },
    {
      "cell_type": "markdown",
      "source": "### The code below is for printing text, numbers and simple addition.",
      "metadata": {
        "tags": []
      },
      "id": "97cbe118-0f39-42a8-80a8-f08c0e603bda"
    },
    {
      "cell_type": "code",
      "source": "print(\"Hello, World\")\nprint(5)\nprint(5+2)\na=4\nb=2\nprint(a+b)\n\n",
      "metadata": {
        "trusted": true
      },
      "execution_count": 14,
      "outputs": [
        {
          "name": "stdout",
          "text": "Hello, World\n5\n7\n6\n",
          "output_type": "stream"
        }
      ],
      "id": "ff0fd2ec-bd97-4263-9db9-5795a92657bb"
    },
    {
      "cell_type": "markdown",
      "source": "---\n1.  Horizontal rule\n---\n2. List <br>\n(of normal oropharngeal flora)\n\n___\n        a. Streptococcus viridans\n        \n   ***\n        b. Coagulase negative Staphylococcus species\n   ___\n        c. Streptococcus pneumoniae\n   ***\n        d. Haemophilus influenzae\n******   \n3.  ~~anotherattempt~~\n\n  \n ",
      "metadata": {},
      "id": "6b1e40ef-572e-419b-acc9-27f07b35090a"
    },
    {
      "cell_type": "markdown",
      "source": "4.  <a href=\"https://dataplatform.cloud.ibm.com/gallery\">IBM Cloud Gallery</a>",
      "metadata": {},
      "id": "1fe514dd-6a16-47ae-b619-4b3a6a5a1c84"
    },
    {
      "cell_type": "code",
      "source": "",
      "metadata": {},
      "execution_count": null,
      "outputs": [],
      "id": "b911e18e-f71e-4374-867c-35f5a5f123ec"
    }
  ]
}